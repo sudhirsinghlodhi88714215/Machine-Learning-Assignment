{
 "cells": [
  {
   "cell_type": "code",
   "execution_count": null,
   "id": "4bdce866-6a22-424b-a009-282e1d830cd3",
   "metadata": {},
   "outputs": [],
   "source": [
    " Q1 Explain the  following  with an example\n",
    "    \n",
    "    (1) Artificial intelligence\n",
    "    (2) Machien Learning\n",
    "    (3) Deep Learning"
   ]
  },
  {
   "cell_type": "code",
   "execution_count": null,
   "id": "313a515b-e2eb-4258-bf94-8b0080c79b44",
   "metadata": {},
   "outputs": [],
   "source": [
    " (1) Artificial intelligence-\n",
    "                             Artificial intelligence is the simulation of human intelligence processes by machines, especially computer\n",
    "systems. Specific applications of AI include expert systems, natural language processing, speech recognition and machine vision. \n",
    "\n",
    "\n",
    "example\n",
    "1. Transport-\n",
    "             In the transport sector, you’ll find plenty of AI examples. From taxi service apps to Google, multiple areas are using the\n",
    "    power of AI to solve their complex problems. A great example of AI in transport is the development of self-driving cars. \n",
    "\n",
    "    These cars can reduce the total number of vehicles on the road by 75% and reduce traffic accidents to about 90%. They all are under\n",
    "development and can arrive in the market in the next few years. AI autopilots have been in use for decades, and they are an essential \n",
    "part of the aviation sector. \n",
    "\n"
   ]
  },
  {
   "cell_type": "code",
   "execution_count": null,
   "id": "459bf8e4-f196-4a00-b759-e61e3a70383b",
   "metadata": {},
   "outputs": [],
   "source": [
    "(2) Machien Learning-   \n",
    "                      Machine learning is a branch of artificial intelligence (AI) and computer science which focuses on the use of data\n",
    "    and algorithms to imitate the way that humans learn, gradually improving its accuracy."
   ]
  },
  {
   "cell_type": "code",
   "execution_count": null,
   "id": "c8b8759e-026f-47ef-92d5-9b31434f75f7",
   "metadata": {},
   "outputs": [],
   "source": [
    "(3) Deep Learning-\n",
    "                  Deep learning is a machine learning technique that teaches computers to do what comes naturally to humans:\n",
    "        \n",
    "Example. Deep learning is a key technology behind driverless cars"
   ]
  },
  {
   "cell_type": "code",
   "execution_count": null,
   "id": "82f0c7c7-98ca-4bd2-aa82-24f591da3bc3",
   "metadata": {},
   "outputs": [],
   "source": [
    "Q3 What is supervised learning ? List some examples of supervised learning\n",
    "\n",
    " supervised learning -\n",
    "                          Supervised learning, also known as supervised machine learning, is a subcategory of machine learning and artificial \n",
    "        intelligence. It is defined by its use of labeled datasets to train algorithms that to classify data or predict outcomes accurately.\n",
    "        As input data is fed into the model\n",
    "                        \n",
    "Example-\n",
    "        Spam detection: Spam detection is another example of a supervised learning model. Using supervised classification algorithms, organizations\n",
    "    can train databases to recognize patterns or anomalies in new data to organize spam and non-spam-related correspondences effectively."
   ]
  },
  {
   "cell_type": "code",
   "execution_count": null,
   "id": "733c84a7-2768-43e3-97a4-b4b3fa8f004d",
   "metadata": {},
   "outputs": [],
   "source": [
    "Q3 What is Unsupervised learning ? List some examples of Unsupervised learning\n",
    "Unsupervised learning -\n",
    "                       Unsupervised learning is when it can provide a set of unlabelled data, which it is required to analyze and find patterns\n",
    "    inside \n",
    "\n",
    "Examples are dimension reduction and clustering\n",
    "    "
   ]
  },
  {
   "cell_type": "code",
   "execution_count": null,
   "id": "fb8ac289-cbee-4420-83c7-9b8e3c25294a",
   "metadata": {},
   "outputs": [],
   "source": [
    "Q4 what is difference between AI ML,DL and  DS ?\n",
    "\n",
    "\n",
    "🔹Artificial Intelligence (AI) enables machines to think by understanding, learning from the data, and taking decisions based on patterns hidden in \n",
    "the data or make inferences that would otherwise be very difficult for humans to make manually. The end goal of using ML or DL is to create an AI\n",
    "application or machine as smart as humans.\n",
    "\n",
    "🔹Machine Learning (ML) is a subset of AI; it provides us statistical tools/techniques like Supervised, Unsupervised, and Reinforcement learning to\n",
    "explore and analyze the data.\n",
    "\n",
    "🔹Deep Learning (DL) is further a subset of ML, and the main idea behind it is to make machines learn by mimicking the human brain. Here, we\n",
    "create a multi neural network architecture with the help of different techniques like ANN, CNN, and RNN.\n",
    "\n",
    "🔹Data Science (DS) is basically drawing insights from structured and unstructured data either by using ML or DL or without these techniques.\n",
    "We can even use different visualization tools, statistics, and probability to gain these insights.\n",
    "\n",
    "\n"
   ]
  },
  {
   "cell_type": "code",
   "execution_count": null,
   "id": "c4be4b8a-15cc-4c93-96c2-6c6e6d51867a",
   "metadata": {},
   "outputs": [],
   "source": [
    "Q5 what are the main difference between supervised unsupervised and semi-supervised learning?\n",
    "\n",
    "Unsupervised learning is when it can provide a set of unlabelled data, which it is required to analyze and find patterns inside.\n",
    "The examples are dimension reduction and clustering.\n"
   ]
  },
  {
   "cell_type": "code",
   "execution_count": null,
   "id": "72aa07e1-0ee4-4acc-ab10-ba6e9d614284",
   "metadata": {},
   "outputs": [],
   "source": [
    "Q6 what  is a train ,test  and  validation split ? Explain  the importance of each term ?"
   ]
  },
  {
   "cell_type": "code",
   "execution_count": null,
   "id": "f8028606-4eed-48c3-b0b5-bc4ec1accfd1",
   "metadata": {},
   "outputs": [],
   "source": [
    "Train-\n",
    "       The difference between the training set and the validation set is the training set is the largest corpus of your dataset that you reserve \n",
    "    for training your model. After training, inference on these images will be taken with a grain of salt, since the model has already had a chance\n",
    "    to look at and memorize the correct output\n",
    "    \n",
    "    \n",
    "    \n",
    "Test -\n",
    "         After all of the training experiments have concluded, you probably have gotten a sense on how your model might do on the validation set.\n",
    "    But it is important to remember that the validation set metrics may have influenced you during the creation of the model, and in this sense you\n",
    "    might, as a designer, overfit the new model to the validation set.Because the validation set is heavily used in model creation, it is important\n",
    "    to hold back a completely separate stronghold of data - the test set. You can run evaluation metrics on the test set at the very end of your \n",
    "    project, to get a sense of how well your model will do in production.  \n",
    "    \n",
    "    \n",
    "validation split-  \n",
    "                    The validation set is a separate section of your dataset that you will use during training to get a sense of how well your model \n",
    "    is doing on images that are not being used in training.During training, it is common to report validation metrics continually after each training\n",
    "    epoch such as validation mAP or validation loss. You use these metrics to get a sense of when your model has hit the best performance it can reach\n",
    "    on your validation set. You may choose to cease training at this point, a process called \"early stopping.\"As you work on your model, you can\n",
    "    continually iterate on your dataset, image augmentations, and model design to increase your model's performance on the validation set.\n",
    "                  \n",
    "    "
   ]
  },
  {
   "cell_type": "code",
   "execution_count": null,
   "id": "b31ecd03-b540-47e1-8415-55da0eea158b",
   "metadata": {},
   "outputs": [],
   "source": [
    "Q7- How can unsupervised learning be used in anomaly detection\n",
    "\n",
    "Anomaly detection techniques of unsupervised nature assume that normal data points occur considerably more frequently than anomalous data points. \n",
    "This assumption is used to classify data points that occur less frequently as anomalies. Unsupervised techniques assign each data point a score \n",
    "instead of a label\n",
    "\n"
   ]
  },
  {
   "cell_type": "code",
   "execution_count": null,
   "id": "9b316c86-4df5-4395-8dca-33a89a63ae18",
   "metadata": {},
   "outputs": [],
   "source": [
    "Q8 Q8- List down somK commonly  used supervised learning  algorithms  and unsupervised learning  algorithms\n",
    "\n",
    "\n",
    "\n",
    "supervised learning  algorithms -\n",
    "                                The supervised Learning method is used by maximum Machine Learning Users. There is a basic Fundamental on \n",
    "    why it is called Supervised Learning. It is called Supervised Learning because the way an Algorithm’s Learning Process is done, it is a \n",
    "    training DataSet. And while using Training dataset, the process can be thought of as a teacher Supervising the Learning Process. The\n",
    "    correct answer is known and stored in the system already.  The algorithm helps in making Predictions about the Data that is in Training\n",
    "    Process and gets the correction done by the Teacher itself. There is an end to the learning only when the Algorithm has achieved an\n",
    "    acceptable degree or level of Performance.\n",
    "\n",
    "There are two types of Supervised learning problems. These Supervised problems can be further grouped into regression and classification\n",
    "problems.\n",
    "\n",
    "Classification Problems: Classification problem can be defined as the problem that brings output variable which falls just in particular\n",
    "categories, such as the “red” or “blue” or it could be “disease” and “no disease”.\n",
    "\n",
    "Regression: A regression problem is when the output variable is a real value, such as “dollars” or it could be “weight”.\n",
    " There are some problems which you get to observe in the Data Type. The common problems which occur or gets built on the head of the\n",
    "    Classification Problems and the Regression Problem. The common Problems include the Time-series Prediction and Recommendation \n",
    "    respectively.\n",
    "\n",
    "\n",
    "\n",
    "unsupervised learning  algorithms - \n",
    "                                  Unsupervised learning is that algorithm where you only have to insert/put the input data (X) and no \n",
    "corresponding output variables are to be put.The major goal for the unsupervised learning is to help model the underlying structure or \n",
    "maybe in the distribution of the data in order to help the learners learn more about the data.These are termed as unsupervised learning \n",
    "because unlike supervised learning which is shown above there are no correct answers and there is no teacher to this. Algorithms are left \n",
    "to their own devices to help discover and present the interesting structure that is present in the data.\n",
    "\n",
    "\n",
    "Unsupervised learning problems can even be grouped ahead into clustering and association problems.\n",
    "\n",
    "Clustering: A clustering is that problem which indicates what you want to discover and this helps in the inherent groupings of the data,\n",
    "such as grouping the customers based on their purchasing behavior.\n",
    "\n",
    "Association:  An association rule is termed to be the learning problem. This is where you would be discovering the exact rules that will\n",
    "describe the large portions of your data. Example: People who buy X are also the one who tends to buy Y.\n",
    "\n"
   ]
  }
 ],
 "metadata": {
  "kernelspec": {
   "display_name": "Python 3 (ipykernel)",
   "language": "python",
   "name": "python3"
  },
  "language_info": {
   "codemirror_mode": {
    "name": "ipython",
    "version": 3
   },
   "file_extension": ".py",
   "mimetype": "text/x-python",
   "name": "python",
   "nbconvert_exporter": "python",
   "pygments_lexer": "ipython3",
   "version": "3.10.8"
  }
 },
 "nbformat": 4,
 "nbformat_minor": 5
}
